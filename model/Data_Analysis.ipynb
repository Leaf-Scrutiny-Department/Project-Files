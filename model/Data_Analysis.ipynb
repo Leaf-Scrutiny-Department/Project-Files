{
  "nbformat": 4,
  "nbformat_minor": 0,
  "metadata": {
    "colab": {
      "name": "Data_Analysis.ipynb",
      "provenance": [],
      "collapsed_sections": []
    },
    "kernelspec": {
      "name": "python3",
      "display_name": "Python 3"
    }
  },
  "cells": [
    {
      "cell_type": "code",
      "metadata": {
        "id": "9yZ1gfYJD3rN",
        "colab_type": "code",
        "colab": {
          "base_uri": "https://localhost:8080/",
          "height": 35
        },
        "outputId": "4ea77f0c-d94c-4c9d-d94f-d5ee249ad03f"
      },
      "source": [
        "\n",
        "import os\n",
        "from tensorflow.keras.preprocessing.image import ImageDataGenerator,load_img,img_to_array\n",
        "import numpy as np\n",
        "import tensorflow as tf\n",
        "from tensorflow import keras\n",
        "from tensorflow.keras import layers\n",
        "import matplotlib.pyplot as plt\n",
        "from keras.models import Sequential\n",
        "from keras.layers.normalization import BatchNormalization\n",
        "from keras.layers.convolutional import Conv2D\n",
        "from keras.layers.core import Activation\n",
        "from keras.layers.core import Flatten\n",
        "from keras.layers.core import Dropout\n",
        "from keras.layers.core import Dense\n",
        "from keras.layers.pooling import MaxPool2D\n",
        "from keras.layers.pooling import GlobalAvgPool2D\n",
        "from keras import backend as K\n",
        "from tensorflow.keras import regularizers\n",
        "tf.__version__\n",
        "from keras import applications"
      ],
      "execution_count": null,
      "outputs": [
        {
          "output_type": "stream",
          "text": [
            "Using TensorFlow backend.\n"
          ],
          "name": "stderr"
        }
      ]
    },
    {
      "cell_type": "code",
      "metadata": {
        "id": "YUK68x-DECXX",
        "colab_type": "code",
        "colab": {
          "base_uri": "https://localhost:8080/",
          "height": 88
        },
        "outputId": "f1cf35dd-f818-4450-9270-4cf7af38742b"
      },
      "source": [
        "!curl -L https://app.roboflow.ai/ds/3fZYcO8lo1?key=qyRmcj1Q3Q > roboflow.zip\n"
      ],
      "execution_count": null,
      "outputs": [
        {
          "output_type": "stream",
          "text": [
            "  % Total    % Received % Xferd  Average Speed   Time    Time     Time  Current\n",
            "                                 Dload  Upload   Total   Spent    Left  Speed\n",
            "100   889  100   889    0     0   1224      0 --:--:-- --:--:-- --:--:--  1224\n",
            "100  210M  100  210M    0     0  97.7M      0  0:00:02  0:00:02 --:--:--  193M\n"
          ],
          "name": "stdout"
        }
      ]
    },
    {
      "cell_type": "code",
      "metadata": {
        "id": "zfVfTwRAEJot",
        "colab_type": "code",
        "colab": {}
      },
      "source": [
        "\n",
        "from zipfile import ZipFile\n",
        "file=\"roboflow.zip\"\n",
        "\n",
        "with ZipFile(file,'r') as zip:\n",
        "  zip.extractall()"
      ],
      "execution_count": null,
      "outputs": []
    },
    {
      "cell_type": "code",
      "metadata": {
        "id": "zz1L2YSaEMUu",
        "colab_type": "code",
        "colab": {}
      },
      "source": [
        "rm roboflow.zip"
      ],
      "execution_count": null,
      "outputs": []
    },
    {
      "cell_type": "code",
      "metadata": {
        "id": "2xJhYePlENDq",
        "colab_type": "code",
        "colab": {
          "base_uri": "https://localhost:8080/",
          "height": 124
        },
        "outputId": "daa1a0f6-ef59-4713-d794-9ce9da5dd8ca"
      },
      "source": [
        "PATH='/content'\n",
        "\n",
        "train_dir = os.path.join(PATH,'train')\n",
        "valid_dir = os.path.join(PATH,'valid')\n",
        "\n",
        "train_healthy_dir = os.path.join(train_dir,'healthy')\n",
        "train_multiple_diseases_dir = os.path.join(train_dir,'multiple_diseases')\n",
        "train_rust_dir = os.path.join(train_dir,'rust')\n",
        "train_scab_dir = os.path.join(train_dir,'scab')\n",
        "\n",
        "valid_healthy_dir = os.path.join(valid_dir,'healthy')\n",
        "valid_multiple_diseases_dir = os.path.join(valid_dir,'multiple_diseases')\n",
        "valid_rust_dir = os.path.join(valid_dir,'rust')\n",
        "valid_scab_dir = os.path.join(valid_dir,'scab')\n",
        "\n",
        "num_healthy_train = len(os.listdir(train_healthy_dir))\n",
        "num_multiple_diseases_train = len(os.listdir(train_multiple_diseases_dir))\n",
        "num_rust_train = len(os.listdir(train_rust_dir))\n",
        "num_scab_train = len(os.listdir(train_scab_dir))\n",
        "\n",
        "num_healthy_valid = len(os.listdir(valid_healthy_dir))\n",
        "num_multiple_diseases_valid = len(os.listdir(valid_multiple_diseases_dir))\n",
        "num_rust_valid = len(os.listdir(valid_rust_dir))\n",
        "num_scab_valid = len(os.listdir(valid_scab_dir))\n",
        "\n",
        "total_train = num_healthy_train + num_multiple_diseases_train + num_rust_train+num_scab_train\n",
        "total_val = num_healthy_valid + num_multiple_diseases_valid + num_rust_valid+num_scab_valid\n",
        "\n",
        "print(total_train)\n",
        "\n",
        "print(total_val)\n",
        "print(num_healthy_train)\n",
        "print(num_scab_train)\n",
        "print(num_rust_train)\n",
        "print(num_multiple_diseases_train)"
      ],
      "execution_count": null,
      "outputs": [
        {
          "output_type": "stream",
          "text": [
            "3079\n",
            "273\n",
            "853\n",
            "991\n",
            "1091\n",
            "144\n"
          ],
          "name": "stdout"
        }
      ]
    },
    {
      "cell_type": "code",
      "metadata": {
        "id": "N_xdXmwaETSM",
        "colab_type": "code",
        "colab": {
          "base_uri": "https://localhost:8080/",
          "height": 52
        },
        "outputId": "c51723ad-91f3-4e63-cacc-72b8c0bd9032"
      },
      "source": [
        "IMG_HEIGHT = 200\n",
        "IMG_WIDTH = 200\n",
        "batch_size = 273\n",
        "\n",
        "image_gen_train = ImageDataGenerator(rescale=1./255)\n",
        "                    \n",
        "train_data_gen = image_gen_train.flow_from_directory(batch_size=batch_size,\n",
        "                                                     directory=train_dir,\n",
        "                                                     shuffle=True,\n",
        "                                                     target_size=(IMG_HEIGHT, IMG_WIDTH),\n",
        "                                                     class_mode='categorical')\n",
        "\n",
        "image_gen_val = ImageDataGenerator(rescale=1./255)\n",
        "\n",
        "val_data_gen = image_gen_val.flow_from_directory(batch_size=batch_size,\n",
        "                                                   directory=valid_dir,\n",
        "                                                   target_size=(IMG_HEIGHT, IMG_WIDTH),\n",
        "                                                   class_mode='categorical')\n"
      ],
      "execution_count": null,
      "outputs": [
        {
          "output_type": "stream",
          "text": [
            "Found 3079 images belonging to 4 classes.\n",
            "Found 273 images belonging to 4 classes.\n"
          ],
          "name": "stdout"
        }
      ]
    },
    {
      "cell_type": "code",
      "metadata": {
        "id": "FHPFn_kOWOkY",
        "colab_type": "code",
        "colab": {
          "base_uri": "https://localhost:8080/",
          "height": 169
        },
        "outputId": "c60706f0-6f6c-48b7-c7b6-3f42e0236263"
      },
      "source": [
        "sample_training_images, labels = next(val_data_gen)"
      ],
      "execution_count": null,
      "outputs": [
        {
          "output_type": "error",
          "ename": "NameError",
          "evalue": "ignored",
          "traceback": [
            "\u001b[0;31m---------------------------------------------------------------------------\u001b[0m",
            "\u001b[0;31mNameError\u001b[0m                                 Traceback (most recent call last)",
            "\u001b[0;32m<ipython-input-7-33054719ced2>\u001b[0m in \u001b[0;36m<module>\u001b[0;34m()\u001b[0m\n\u001b[0;32m----> 1\u001b[0;31m \u001b[0msample_training_images\u001b[0m\u001b[0;34m,\u001b[0m \u001b[0mlabels\u001b[0m \u001b[0;34m=\u001b[0m \u001b[0mnext\u001b[0m\u001b[0;34m(\u001b[0m\u001b[0mval_data_gen\u001b[0m\u001b[0;34m)\u001b[0m\u001b[0;34m\u001b[0m\u001b[0;34m\u001b[0m\u001b[0m\n\u001b[0m",
            "\u001b[0;31mNameError\u001b[0m: name 'val_data_gen' is not defined"
          ]
        }
      ]
    },
    {
      "cell_type": "code",
      "metadata": {
        "id": "XChvQ2QyMeUO",
        "colab_type": "code",
        "colab": {}
      },
      "source": [
        "def data_analysis_val(model_test):\n",
        "  sample_training_images, labels = next(val_data_gen)\n",
        "\n",
        "  arr_list_1_val=[]\n",
        "  arr_list_2_val=[]\n",
        "  arr_list_3_val=[]\n",
        "  arr_list_4_val=[]\n",
        "  check_1_arr=np.array([1.0,0.0,0.0,0.0])\n",
        "  check_2_arr=np.array([0.0,1.0,0.0,0.0])\n",
        "  check_3_arr=np.array([0.0,0.0,1.0,0.0])\n",
        "  check_4_arr=np.array([0.0,0.0,0.0,1.0])\n",
        "  for x in range(273):\n",
        "    arr_1 = check_1_arr==labels[x]\n",
        "    if arr_1.all()==True:\n",
        "      arr_list_1_val.append(sample_training_images[x])\n",
        "    arr_2 = check_2_arr==labels[x]\n",
        "    if arr_2.all()==True:\n",
        "      arr_list_2_val.append(sample_training_images[x])\n",
        "    arr_3 = check_3_arr==labels[x]\n",
        "    if arr_3.all()==True:\n",
        "      arr_list_3_val.append(sample_training_images[x])\n",
        "    arr_4 = check_4_arr==labels[x]\n",
        "    if arr_4.all()==True:\n",
        "      arr_list_4_val.append(sample_training_images[x])\n",
        "    \n",
        "      \n",
        "\n",
        "  label_1_arr=check_1_arr*np.ones((len(arr_list_1_val),4))\n",
        "  label_2_arr=check_2_arr*np.ones((len(arr_list_2_val),4))\n",
        "  label_3_arr=check_3_arr*np.ones((len(arr_list_3_val),4))\n",
        "  label_4_arr=check_4_arr*np.ones((len(arr_list_4_val),4))\n",
        "\n",
        "\n",
        "  model_test.compile(optimizer=keras.optimizers.RMSprop(),\n",
        "                loss='categorical_crossentropy',\n",
        "                metrics=['accuracy'])\n",
        "\n",
        "  arr_list_1=np.array(arr_list_1_val)\n",
        "  arr_list_2=np.array(arr_list_2_val)\n",
        "  arr_list_3=np.array(arr_list_3_val)\n",
        "  arr_list_4=np.array(arr_list_4_val)\n",
        "\n",
        "\n",
        "  results_1 = model_test.evaluate(arr_list_1, label_1_arr, batch_size=128)\n",
        "  results_2 = model_test.evaluate(arr_list_2, label_2_arr, batch_size=128)\n",
        "  results_3 = model_test.evaluate(arr_list_3, label_3_arr, batch_size=128)\n",
        "  results_4 = model_test.evaluate(arr_list_4, label_4_arr, batch_size=128)\n",
        "\n",
        "  result_dict={'class_1':results_1,'class_2':results_2,'class_3':results_3,'class_4':results_4}\n",
        "\n",
        "  return result_dict\n",
        "\n"
      ],
      "execution_count": null,
      "outputs": []
    },
    {
      "cell_type": "code",
      "metadata": {
        "id": "bQD9BrbR801t",
        "colab_type": "code",
        "colab": {
          "base_uri": "https://localhost:8080/",
          "height": 126
        },
        "outputId": "97fcd7e2-8755-47e6-e593-549a27ac417e"
      },
      "source": [
        "print(data_analysis_val(model_test))"
      ],
      "execution_count": null,
      "outputs": [
        {
          "output_type": "stream",
          "text": [
            "88/88 [==============================] - 2s 22ms/step\n",
            "18/18 [==============================] - 0s 21ms/step\n",
            "75/75 [==============================] - 2s 20ms/step\n",
            "92/92 [==============================] - 2s 20ms/step\n",
            "{'class_1': [0.6766065359115601, 0.8636363744735718], 'class_2': [6.704607009887695, 0.3333333432674408], 'class_3': [0.06532077491283417, 0.9866666793823242], 'class_4': [0.17082150280475616, 0.945652186870575]}\n"
          ],
          "name": "stdout"
        }
      ]
    },
    {
      "cell_type": "code",
      "metadata": {
        "id": "Bx_RG6BRY7ly",
        "colab_type": "code",
        "colab": {
          "base_uri": "https://localhost:8080/",
          "height": 87
        },
        "outputId": "1c84db06-7fc6-4638-9f20-51328bacc603"
      },
      "source": [
        "print(len(arr_list_1_val))\n",
        "print(len(arr_list_2_val))\n",
        "print(len(arr_list_3_val))\n",
        "print(len(arr_list_4_val))"
      ],
      "execution_count": null,
      "outputs": [
        {
          "output_type": "stream",
          "text": [
            "88\n",
            "18\n",
            "75\n",
            "92\n"
          ],
          "name": "stdout"
        }
      ]
    },
    {
      "cell_type": "code",
      "metadata": {
        "id": "kqiWVPk0ZRQm",
        "colab_type": "code",
        "colab": {}
      },
      "source": [
        "label_1_arr=check_1_arr*np.ones((len(arr_list_1_val),4))\n",
        "label_2_arr=check_2_arr*np.ones((len(arr_list_2_val),4))\n",
        "label_3_arr=check_3_arr*np.ones((len(arr_list_3_val),4))\n",
        "label_4_arr=check_4_arr*np.ones((len(arr_list_4_val),4))\n"
      ],
      "execution_count": null,
      "outputs": []
    },
    {
      "cell_type": "code",
      "metadata": {
        "id": "tYCTYsazEqM-",
        "colab_type": "code",
        "colab": {
          "base_uri": "https://localhost:8080/",
          "height": 72
        },
        "outputId": "85c49175-b32b-4414-e169-07adeb841e2a"
      },
      "source": [
        "from keras.models import load_model\n",
        "model_test=load_model('model_5.h5')"
      ],
      "execution_count": null,
      "outputs": [
        {
          "output_type": "stream",
          "text": [
            "/usr/local/lib/python3.6/dist-packages/keras/engine/saving.py:341: UserWarning: No training configuration found in save file: the model was *not* compiled. Compile it manually.\n",
            "  warnings.warn('No training configuration found in save file: '\n"
          ],
          "name": "stderr"
        }
      ]
    },
    {
      "cell_type": "code",
      "metadata": {
        "id": "uVVYTERTGe_P",
        "colab_type": "code",
        "colab": {}
      },
      "source": [
        "\n",
        "model_test.compile(optimizer=keras.optimizers.RMSprop(),\n",
        "              loss='categorical_crossentropy',\n",
        "              metrics=['accuracy'])"
      ],
      "execution_count": null,
      "outputs": []
    },
    {
      "cell_type": "code",
      "metadata": {
        "id": "Ri-bNlQqdfMy",
        "colab_type": "code",
        "colab": {}
      },
      "source": [
        "arr_list_1=np.array(arr_list_1_val)\n",
        "arr_list_2=np.array(arr_list_2_val)\n",
        "arr_list_3=np.array(arr_list_3_val)\n",
        "arr_list_4=np.array(arr_list_4_val)\n"
      ],
      "execution_count": null,
      "outputs": []
    },
    {
      "cell_type": "code",
      "metadata": {
        "id": "wFLwg7aeS8sW",
        "colab_type": "code",
        "colab": {
          "base_uri": "https://localhost:8080/",
          "height": 287
        },
        "outputId": "54e0f706-336a-4946-8578-ca224ce50701"
      },
      "source": [
        "plt.imshow(arr_list_2[12])"
      ],
      "execution_count": null,
      "outputs": [
        {
          "output_type": "execute_result",
          "data": {
            "text/plain": [
              "<matplotlib.image.AxesImage at 0x7f38180342b0>"
            ]
          },
          "metadata": {
            "tags": []
          },
          "execution_count": 50
        },
        {
          "output_type": "display_data",
          "data": {
            "image/png": "[encoded data removed]",
            "text/plain": [
              "<Figure size 432x288 with 1 Axes>"
            ]
          },
          "metadata": {
            "tags": [],
            "needs_background": "light"
          }
        }
      ]
    },
    {
      "cell_type": "code",
      "metadata": {
        "id": "8EscUd1FEqLp",
        "colab_type": "code",
        "colab": {
          "base_uri": "https://localhost:8080/",
          "height": 87
        },
        "outputId": "d98f5803-3007-4b2c-c017-57bafae6ffef"
      },
      "source": [
        "\n",
        "results_1 = model_test.evaluate(arr_list_1, label_1_arr, batch_size=128)\n",
        "results_2 = model_test.evaluate(arr_list_2, label_2_arr, batch_size=128)\n",
        "results_3 = model_test.evaluate(arr_list_3, label_3_arr, batch_size=128)\n",
        "results_4 = model_test.evaluate(arr_list_4, label_4_arr, batch_size=128)\n",
        "\n"
      ],
      "execution_count": null,
      "outputs": [
        {
          "output_type": "stream",
          "text": [
            "88/88 [==============================] - 6s 71ms/step\n",
            "18/18 [==============================] - 0s 4ms/step\n",
            "75/75 [==============================] - 0s 2ms/step\n",
            "92/92 [==============================] - 0s 2ms/step\n"
          ],
          "name": "stdout"
        }
      ]
    },
    {
      "cell_type": "code",
      "metadata": {
        "id": "89TkAs00Gct1",
        "colab_type": "code",
        "colab": {
          "base_uri": "https://localhost:8080/",
          "height": 87
        },
        "outputId": "434b94d0-0209-4113-e563-65e67cdf6025"
      },
      "source": [
        "#classwise accuracy\n",
        "print(results_1)\n",
        "print(results_2)\n",
        "print(results_3)\n",
        "print(results_4)"
      ],
      "execution_count": null,
      "outputs": [
        {
          "output_type": "stream",
          "text": [
            "[0.6766071915626526, 0.8636363744735718]\n",
            "[6.70460844039917, 0.3333333432674408]\n",
            "[0.06532081961631775, 0.9866666793823242]\n",
            "[0.1708212047815323, 0.945652186870575]\n"
          ],
          "name": "stdout"
        }
      ]
    },
    {
      "cell_type": "code",
      "metadata": {
        "id": "C_viw3hafk2I",
        "colab_type": "code",
        "colab": {
          "base_uri": "https://localhost:8080/",
          "height": 35
        },
        "outputId": "b8b1444e-948a-4140-eef2-284b4c8e1b27"
      },
      "source": [
        "#overall accuracy of the model\n",
        "results=model_test.evaluate_generator(val_data_gen)\n",
        "print(results)"
      ],
      "execution_count": null,
      "outputs": [
        {
          "output_type": "stream",
          "text": [
            "[0.7356738448143005, 0.8901098966598511]\n"
          ],
          "name": "stdout"
        }
      ]
    },
    {
      "cell_type": "code",
      "metadata": {
        "id": "jxQDW5ZuZASr",
        "colab_type": "code",
        "colab": {}
      },
      "source": [
        ""
      ],
      "execution_count": null,
      "outputs": []
    },
    {
      "cell_type": "code",
      "metadata": {
        "id": "DT799v2zaH8F",
        "colab_type": "code",
        "colab": {}
      },
      "source": [
        "arr_list_1_train=[]\n",
        "arr_list_2_train=[]\n",
        "arr_list_3_train=[]\n",
        "arr_list_4_train=[]\n",
        "\n",
        "check_1_arr=np.array([1.0,0.0,0.0,0.0])\n",
        "check_2_arr=np.array([0.0,1.0,0.0,0.0])\n",
        "check_3_arr=np.array([0.0,0.0,1.0,0.0])\n",
        "check_4_arr=np.array([0.0,0.0,0.0,1.0])"
      ],
      "execution_count": null,
      "outputs": []
    },
    {
      "cell_type": "code",
      "metadata": {
        "id": "Xi5AyKOvZNzL",
        "colab_type": "code",
        "colab": {}
      },
      "source": [
        " def data_analysis_train(model_test): \n",
        "  arr_list_1_train=[]\n",
        "  arr_list_2_train=[]\n",
        "  arr_list_3_train=[]\n",
        "  arr_list_4_train=[]\n",
        "\n",
        "  check_1_arr=np.array([1.0,0.0,0.0,0.0])\n",
        "  check_2_arr=np.array([0.0,1.0,0.0,0.0])\n",
        "  check_3_arr=np.array([0.0,0.0,1.0,0.0])\n",
        "  check_4_arr=np.array([0.0,0.0,0.0,1.0])\n",
        "\n",
        "  for i in range(3079//273-1):\n",
        "    sample_training_images, labels = next(train_data_gen)\n",
        "    for x in range(273):\n",
        "      arr_1 = check_1_arr==labels[x]\n",
        "      if arr_1.all()==True:\n",
        "        arr_list_1_train.append(sample_training_images[x])\n",
        "      arr_2 = check_2_arr==labels[x]\n",
        "      if arr_2.all()==True:\n",
        "        arr_list_2_train.append(sample_training_images[x])\n",
        "      arr_3 = check_3_arr==labels[x]\n",
        "      if arr_3.all()==True:\n",
        "        arr_list_3_train.append(sample_training_images[x])\n",
        "      arr_4 = check_4_arr==labels[x]\n",
        "      if arr_4.all()==True:\n",
        "        arr_list_4_train.append(sample_training_images[x])\n",
        "      \n",
        "      \n",
        "  arr_list_1_t=np.array(arr_list_1_train)\n",
        "  arr_list_2_t=np.array(arr_list_2_train)\n",
        "  arr_list_3_t=np.array(arr_list_3_train)\n",
        "  arr_list_4_t=np.array(arr_list_4_train)\n",
        "\n",
        "  label_1_arr=check_1_arr*np.ones((len(arr_list_1_train),4))\n",
        "  label_2_arr=check_2_arr*np.ones((len(arr_list_2_train),4))\n",
        "  label_3_arr=check_3_arr*np.ones((len(arr_list_3_train),4))\n",
        "  label_4_arr=check_4_arr*np.ones((len(arr_list_4_train),4))\n",
        "\n",
        "\n",
        "  results_1_t = model_test.evaluate(arr_list_1_t, label_1_arr, batch_size=128)\n",
        "  results_2_t = model_test.evaluate(arr_list_2_t, label_2_arr, batch_size=128)\n",
        "  results_3_t = model_test.evaluate(arr_list_3_t, label_3_arr, batch_size=128)\n",
        "  results_4_t = model_test.evaluate(arr_list_4_t, label_4_arr, batch_size=128)\n",
        "\n",
        "  result_dict={'class_1':results_1_t,'class_2':results_2_t,'class_3':results_3_t,'class_4':results_4_t}\n",
        "\n",
        "  return result_dict\n",
        "\n"
      ],
      "execution_count": null,
      "outputs": []
    },
    {
      "cell_type": "code",
      "metadata": {
        "id": "qoqKGdjyAP60",
        "colab_type": "code",
        "colab": {
          "base_uri": "https://localhost:8080/",
          "height": 126
        },
        "outputId": "10c067bc-edbd-4b4f-f384-9cc281ac7a2e"
      },
      "source": [
        "print(data_analysis_train(model_test))"
      ],
      "execution_count": null,
      "outputs": [
        {
          "output_type": "stream",
          "text": [
            "760/760 [==============================] - 16s 21ms/step\n",
            "133/133 [==============================] - 3s 20ms/step\n",
            "968/968 [==============================] - 20s 20ms/step\n",
            "869/869 [==============================] - 17s 20ms/step\n",
            "{'class_1': [0.004758289037272334, 0.9973683953285217], 'class_2': [0.052968464959832956, 0.969924807548523], 'class_3': [0.0004730789909189305, 1.0], 'class_4': [4.9293009856390535e-05, 1.0]}\n"
          ],
          "name": "stdout"
        }
      ]
    },
    {
      "cell_type": "code",
      "metadata": {
        "id": "A5uRyWKja345",
        "colab_type": "code",
        "colab": {}
      },
      "source": [
        "arr_list_1_t=np.array(arr_list_1_train)\n",
        "arr_list_2_t=np.array(arr_list_2_train)\n",
        "arr_list_3_t=np.array(arr_list_3_train)\n",
        "arr_list_4_t=np.array(arr_list_4_train)\n",
        "\n",
        "label_1_arr=check_1_arr*np.ones((len(arr_list_1_train),4))\n",
        "label_2_arr=check_2_arr*np.ones((len(arr_list_2_train),4))\n",
        "label_3_arr=check_3_arr*np.ones((len(arr_list_3_train),4))\n",
        "label_4_arr=check_4_arr*np.ones((len(arr_list_4_train),4))\n"
      ],
      "execution_count": null,
      "outputs": []
    },
    {
      "cell_type": "code",
      "metadata": {
        "id": "VU2yF24PbDzH",
        "colab_type": "code",
        "colab": {
          "base_uri": "https://localhost:8080/",
          "height": 88
        },
        "outputId": "3eeba9ea-8503-4113-9dcb-0223586a81b1"
      },
      "source": [
        "\n",
        "results_1_t = model_test.evaluate(arr_list_1_t, label_1_arr, batch_size=128)\n",
        "results_2_t = model_test.evaluate(arr_list_2_t, label_2_arr, batch_size=128)\n",
        "results_3_t = model_test.evaluate(arr_list_3_t, label_3_arr, batch_size=128)\n",
        "results_4_t = model_test.evaluate(arr_list_4_t, label_4_arr, batch_size=128)\n",
        "\n"
      ],
      "execution_count": null,
      "outputs": [
        {
          "output_type": "stream",
          "text": [
            "749/749 [==============================] - 16s 21ms/step\n",
            "134/134 [==============================] - 3s 20ms/step\n",
            "979/979 [==============================] - 20s 20ms/step\n",
            "868/868 [==============================] - 17s 20ms/step\n"
          ],
          "name": "stdout"
        }
      ]
    },
    {
      "cell_type": "code",
      "metadata": {
        "id": "68fwbi47bN8X",
        "colab_type": "code",
        "colab": {
          "base_uri": "https://localhost:8080/",
          "height": 88
        },
        "outputId": "b7daad87-3a1d-4e89-e842-eec73544a478"
      },
      "source": [
        "#classwise accuracy\n",
        "print(results_1_t)\n",
        "print(results_2_t)\n",
        "print(results_3_t)\n",
        "print(results_4_t)"
      ],
      "execution_count": null,
      "outputs": [
        {
          "output_type": "stream",
          "text": [
            "[0.0034590652747171742, 0.998664915561676]\n",
            "[0.04845658848288038, 0.9701492786407471]\n",
            "[0.00045264941561180887, 1.0]\n",
            "[0.00011009398946664103, 1.0]\n"
          ],
          "name": "stdout"
        }
      ]
    },
    {
      "cell_type": "markdown",
      "metadata": {
        "id": "Mvckh-ytcFYW",
        "colab_type": "text"
      },
      "source": [
        "So we have the data of the val and train class wise accuracy. Hence we can see which class in particualr is overfitting the data"
      ]
    },
    {
      "cell_type": "code",
      "metadata": {
        "id": "bIP26eTJcPll",
        "colab_type": "code",
        "colab": {}
      },
      "source": [
        ""
      ],
      "execution_count": null,
      "outputs": []
    }
  ]
}